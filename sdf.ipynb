{
 "cells": [
  {
   "cell_type": "code",
   "execution_count": 171,
   "metadata": {},
   "outputs": [],
   "source": [
    "import numpy\n",
    "import qrcode\n",
    "from sdf import *"
   ]
  },
  {
   "cell_type": "code",
   "execution_count": 172,
   "metadata": {},
   "outputs": [],
   "source": [
    "s = 0.1 # 1 unit is 10 cm\n",
    "dz = 0.005 / s\n",
    "delimiting_plane = plane(-UP, ORIGIN)\n",
    "delimiting_box = box(s * 1, (0, 0, s * 0.5))\n",
    "base_slab = box((s * 1, s * 1, s * dz), (0, 0, s * dz/2))\n",
    "\n",
    "\n",
    "qrcode.make('oscer@kth.se', border=1).save('qr.png')"
   ]
  },
  {
   "cell_type": "code",
   "execution_count": 173,
   "metadata": {},
   "outputs": [
    {
     "name": "stdout",
     "output_type": "stream",
     "text": [
      "min -0.052839, -0.052839, -0.00565118\n",
      "max 0.0528398, 0.0528398, 0.0102353\n",
      "step 0.000348429, 0.000348429, 0.000348429\n",
      "4604543 samples in 200 batches with 16 workers\n",
      "  100% (200 of 200) [##############################] 0:00:01 0:00:00    \n",
      "0 skipped, 100 empty, 100 nonempty\n",
      "409110 triangles in 0.71548 seconds\n"
     ]
    }
   ],
   "source": [
    "qr = image('qr.png', s * 1.01, s * 1.01)\n",
    "slab_qr = base_slab\n",
    "slab_qr -= (base_slab - qr.extrude(s * dz / 2)).translate((0, 0, s * dz * 3 / 4))\n",
    "slab_qr &= delimiting_box\n",
    "\n",
    "slab_qr.save('slab_qr.stl')"
   ]
  },
  {
   "cell_type": "code",
   "execution_count": 174,
   "metadata": {},
   "outputs": [
    {
     "name": "stdout",
     "output_type": "stream",
     "text": [
      "min -0.052839, -0.052839, -0.00542943\n",
      "max 0.0528398, 0.0528398, 0.017216\n",
      "step 0.000392132, 0.000392132, 0.000392132\n",
      "4559756 samples in 162 batches with 16 workers\n",
      "  100% (162 of 162) [##############################] 0:00:40 0:00:00    \n",
      "0 skipped, 0 empty, 162 nonempty\n",
      "439200 triangles in 40.5947 seconds\n"
     ]
    }
   ],
   "source": [
    "np.random.seed(42)\n",
    "r_x = lambda x: x.rotate(np.random.uniform(0, 2*np.pi), X)\n",
    "r_y = lambda x: x.rotate(np.random.uniform(0, 2*np.pi), Y)\n",
    "r_z = lambda x: x.rotate(np.random.uniform(0, 2*np.pi), Z)\n",
    "randomize = lambda a: r_x(r_y(r_z(box(a))))\n",
    "\n",
    "slab_1 = base_slab\n",
    "for x in np.linspace(-0.5, 0.5, 9):\n",
    "    for y in np.linspace(-0.5, 0.5, 9):\n",
    "        slab_1 |= randomize(s * 1 / 7).translate((s * x, s * y, 0))\n",
    "slab_1 &= delimiting_box\n",
    "\n",
    "slab_1.save('slab_1.stl')"
   ]
  },
  {
   "cell_type": "code",
   "execution_count": 175,
   "metadata": {},
   "outputs": [
    {
     "name": "stdout",
     "output_type": "stream",
     "text": [
      "min -0.052839, -0.052839, -0.00510902\n",
      "max 0.0528398, 0.0528398, 0.0216661\n",
      "step 0.000414651, 0.000414651, 0.000414651\n",
      "4599148 samples in 192 batches with 16 workers\n",
      "  100% (192 of 192) [##############################] 0:00:27 0:00:00    \n",
      "38 skipped, 26 empty, 128 nonempty\n",
      "428386 triangles in 27.3634 seconds\n"
     ]
    }
   ],
   "source": [
    "np.random.seed(42)\n",
    "r_x = lambda x: x.rotate(np.random.uniform(0, 2*np.pi), X)\n",
    "r_y = lambda x: x.rotate(np.random.uniform(0, 2*np.pi), Y)\n",
    "r_z = lambda x: x.rotate(np.random.uniform(0, 2*np.pi), Z)\n",
    "randomize = lambda a: r_x(r_y(r_z(box(a))))\n",
    "\n",
    "slab_2 = base_slab\n",
    "for x in np.linspace(-0.5, 0.5, 6):\n",
    "    for y in np.linspace(-0.5, 0.5, 6):\n",
    "        slab_2 |= randomize(s * 1 / 5).translate((s * x, s * y, 0))\n",
    "slab_2 &= delimiting_box\n",
    "\n",
    "slab_2.save('slab_2.stl')"
   ]
  },
  {
   "cell_type": "code",
   "execution_count": 176,
   "metadata": {},
   "outputs": [
    {
     "name": "stdout",
     "output_type": "stream",
     "text": [
      "min -0.052839, -0.052839, -0.00395348\n",
      "max 0.0528398, 0.0528398, 0.0418374\n",
      "step 0.000495867, 0.000495867, 0.000495867\n",
      "4598000 samples in 147 batches with 16 workers\n"
     ]
    },
    {
     "name": "stdout",
     "output_type": "stream",
     "text": [
      "  100% (147 of 147) [##############################] 0:00:07 0:00:00    \n",
      "1 skipped, 21 empty, 125 nonempty\n",
      "361800 triangles in 6.78039 seconds\n"
     ]
    }
   ],
   "source": [
    "np.random.seed(42)\n",
    "r_x = lambda x: x.rotate(np.random.uniform(0, 2*np.pi), X)\n",
    "r_y = lambda x: x.rotate(np.random.uniform(0, 2*np.pi), Y)\n",
    "r_z = lambda x: x.rotate(np.random.uniform(0, 2*np.pi), Z)\n",
    "randomize = lambda a: r_x(r_y(r_z(box(a))))\n",
    "\n",
    "slab_3 = base_slab\n",
    "for x in np.linspace(-0.5, 0.5, 3):\n",
    "    for y in np.linspace(-0.5, 0.5, 3):\n",
    "        slab_3 |= randomize(s * 1 / 2).translate((s * x, s * y, 0))\n",
    "slab_3 &= delimiting_box\n",
    "\n",
    "slab_3.save('slab_3.stl')"
   ]
  }
 ],
 "metadata": {
  "kernelspec": {
   "display_name": "Python 3",
   "language": "python",
   "name": "python3"
  },
  "language_info": {
   "codemirror_mode": {
    "name": "ipython",
    "version": 3
   },
   "file_extension": ".py",
   "mimetype": "text/x-python",
   "name": "python",
   "nbconvert_exporter": "python",
   "pygments_lexer": "ipython3",
   "version": "3.10.12"
  }
 },
 "nbformat": 4,
 "nbformat_minor": 2
}
